{
  "nbformat": 4,
  "nbformat_minor": 0,
  "metadata": {
    "colab": {
      "name": "Assignment_1_GDP.ipynb",
      "provenance": [],
      "collapsed_sections": []
    },
    "kernelspec": {
      "name": "python3",
      "display_name": "Python 3"
    },
    "language_info": {
      "name": "python"
    }
  },
  "cells": [
    {
      "cell_type": "markdown",
      "metadata": {
        "id": "Gu3K9lT1ahja"
      },
      "source": [
        "## Evaluate the dataset containing the GDPs of different countries to:"
      ]
    },
    {
      "cell_type": "markdown",
      "metadata": {
        "id": "rky7aZ9waleT"
      },
      "source": [
        "• Find and print the name of the country with the highest GDP,"
      ]
    },
    {
      "cell_type": "markdown",
      "metadata": {
        "id": "Cj3NH3Ytaw9k"
      },
      "source": [
        "• Find and print the name of the country with the lowest GDP,"
      ]
    },
    {
      "cell_type": "markdown",
      "metadata": {
        "id": "PQm8LXSRa2LM"
      },
      "source": [
        "• Print out text and input values iteratively,"
      ]
    },
    {
      "cell_type": "markdown",
      "metadata": {
        "id": "tYHxTgWAa5VP"
      },
      "source": [
        "• Print out the entire list of the countries with their GDPs, and"
      ]
    },
    {
      "cell_type": "markdown",
      "metadata": {
        "id": "9eeCG1lUa9yL"
      },
      "source": [
        "• Print the highest GDP value, lowest GDP value, mean GDP value, standardized GDP value, and the sum of all the GDPs"
      ]
    },
    {
      "cell_type": "code",
      "metadata": {
        "id": "dU8L-ZE1MKIm"
      },
      "source": [
        "# importing pandas as pd\n",
        "import pandas as pd"
      ],
      "execution_count": 48,
      "outputs": []
    },
    {
      "cell_type": "code",
      "metadata": {
        "colab": {
          "base_uri": "https://localhost:8080/",
          "height": 206
        },
        "id": "GkXW6CfgXt97",
        "outputId": "6c0f3695-ae41-4200-882f-22fcb9247f05"
      },
      "source": [
        "data={'Country':['Algeria','Angola','Argentina','Australia','Austria','Bahamas','Bangladesh','Belarus','Belgium','Bhutan','Brazil','Bulgaria','Cambodia','Cameroon','Chile','China','Colombia','Cyprus','Denmark','El Salvador','Estonia','Ethiopia','Fiji','Finland','France','Georgia','Ghana','Grenada','Guinea','Haiti','Honduras','Hungary','India','Indonesia','Ireland','Italy','Japan','Kenya', 'South Korea','Liberia','Malaysia','Mexico', 'Morocco','Nepal','New Zealand','Norway','Pakistan', 'Peru','Qatar','Russia','Singapore','South Africa','Spain','Sweden','Switzerland','Thailand', 'United Arab Emirates','United Kingdom','United States','Uruguay','Venezuela','Vietnam','Zimbabwe'], \n",
        "      'GDP':[2255.225482,629.9553062,11601.63022,25306.82494,27266.40335,19466.99052,588.3691778,2890.345675,24733.62696,1445.760002,4803.398244,2618.876037,590.4521124,665.7982328,7122.938458,2639.54156,3362.4656,15378.16704,30860.12808,2579.115607,6525.541272,229.6769525,2242.689259,27570.4852,23016.84778,1334.646773,402.6953275,6047.200797,394.1156638,385.5793827,1414.072488,5745.981529,837.7464011,1206.991065,27715.52837,18937.24998,39578.07441,478.2194906,16684.21278,279.2204061,5345.213415,6288.25324,1908.304416,274.8728621,14646.42094,40034.85063,672.1547506,3359.517402,36152.66676,3054.727742,33529.83052,3825.093781,15428.32098,33630.24604,39170.41371,2699.123242,21058.43643,28272.40661,37691.02733,9581.05659,5671.912202,757.4009286,347.7456605]}\n",
        "df=pd.DataFrame(data) # creating dataframe\n",
        "df.head()"
      ],
      "execution_count": 49,
      "outputs": [
        {
          "output_type": "execute_result",
          "data": {
            "text/html": [
              "<div>\n",
              "<style scoped>\n",
              "    .dataframe tbody tr th:only-of-type {\n",
              "        vertical-align: middle;\n",
              "    }\n",
              "\n",
              "    .dataframe tbody tr th {\n",
              "        vertical-align: top;\n",
              "    }\n",
              "\n",
              "    .dataframe thead th {\n",
              "        text-align: right;\n",
              "    }\n",
              "</style>\n",
              "<table border=\"1\" class=\"dataframe\">\n",
              "  <thead>\n",
              "    <tr style=\"text-align: right;\">\n",
              "      <th></th>\n",
              "      <th>Country</th>\n",
              "      <th>GDP</th>\n",
              "    </tr>\n",
              "  </thead>\n",
              "  <tbody>\n",
              "    <tr>\n",
              "      <th>0</th>\n",
              "      <td>Algeria</td>\n",
              "      <td>2255.225482</td>\n",
              "    </tr>\n",
              "    <tr>\n",
              "      <th>1</th>\n",
              "      <td>Angola</td>\n",
              "      <td>629.955306</td>\n",
              "    </tr>\n",
              "    <tr>\n",
              "      <th>2</th>\n",
              "      <td>Argentina</td>\n",
              "      <td>11601.630220</td>\n",
              "    </tr>\n",
              "    <tr>\n",
              "      <th>3</th>\n",
              "      <td>Australia</td>\n",
              "      <td>25306.824940</td>\n",
              "    </tr>\n",
              "    <tr>\n",
              "      <th>4</th>\n",
              "      <td>Austria</td>\n",
              "      <td>27266.403350</td>\n",
              "    </tr>\n",
              "  </tbody>\n",
              "</table>\n",
              "</div>"
            ],
            "text/plain": [
              "     Country           GDP\n",
              "0    Algeria   2255.225482\n",
              "1     Angola    629.955306\n",
              "2  Argentina  11601.630220\n",
              "3  Australia  25306.824940\n",
              "4    Austria  27266.403350"
            ]
          },
          "metadata": {
            "tags": []
          },
          "execution_count": 49
        }
      ]
    },
    {
      "cell_type": "code",
      "metadata": {
        "colab": {
          "base_uri": "https://localhost:8080/",
          "height": 300
        },
        "id": "Pl-Mjl34Mxnh",
        "outputId": "4e25f1f6-90ef-47e8-c7ba-3eaecf05e618"
      },
      "source": [
        "df.describe() #generates descriptive statistics"
      ],
      "execution_count": 50,
      "outputs": [
        {
          "output_type": "execute_result",
          "data": {
            "text/html": [
              "<div>\n",
              "<style scoped>\n",
              "    .dataframe tbody tr th:only-of-type {\n",
              "        vertical-align: middle;\n",
              "    }\n",
              "\n",
              "    .dataframe tbody tr th {\n",
              "        vertical-align: top;\n",
              "    }\n",
              "\n",
              "    .dataframe thead th {\n",
              "        text-align: right;\n",
              "    }\n",
              "</style>\n",
              "<table border=\"1\" class=\"dataframe\">\n",
              "  <thead>\n",
              "    <tr style=\"text-align: right;\">\n",
              "      <th></th>\n",
              "      <th>GDP</th>\n",
              "    </tr>\n",
              "  </thead>\n",
              "  <tbody>\n",
              "    <tr>\n",
              "      <th>count</th>\n",
              "      <td>63.000000</td>\n",
              "    </tr>\n",
              "    <tr>\n",
              "      <th>mean</th>\n",
              "      <td>11289.409272</td>\n",
              "    </tr>\n",
              "    <tr>\n",
              "      <th>std</th>\n",
              "      <td>12846.190627</td>\n",
              "    </tr>\n",
              "    <tr>\n",
              "      <th>min</th>\n",
              "      <td>229.676952</td>\n",
              "    </tr>\n",
              "    <tr>\n",
              "      <th>25%</th>\n",
              "      <td>1270.818919</td>\n",
              "    </tr>\n",
              "    <tr>\n",
              "      <th>50%</th>\n",
              "      <td>4803.398244</td>\n",
              "    </tr>\n",
              "    <tr>\n",
              "      <th>75%</th>\n",
              "      <td>20262.713475</td>\n",
              "    </tr>\n",
              "    <tr>\n",
              "      <th>max</th>\n",
              "      <td>40034.850630</td>\n",
              "    </tr>\n",
              "  </tbody>\n",
              "</table>\n",
              "</div>"
            ],
            "text/plain": [
              "                GDP\n",
              "count     63.000000\n",
              "mean   11289.409272\n",
              "std    12846.190627\n",
              "min      229.676952\n",
              "25%     1270.818919\n",
              "50%     4803.398244\n",
              "75%    20262.713475\n",
              "max    40034.850630"
            ]
          },
          "metadata": {
            "tags": []
          },
          "execution_count": 50
        }
      ]
    },
    {
      "cell_type": "code",
      "metadata": {
        "colab": {
          "base_uri": "https://localhost:8080/",
          "height": 81
        },
        "id": "q6akL_FqYrfB",
        "outputId": "82ca1537-466e-48f6-b77c-e470d51b0890"
      },
      "source": [
        "df[df.GDP == max(df.GDP)]\n",
        "# Norway is the country with highest GDP"
      ],
      "execution_count": 39,
      "outputs": [
        {
          "output_type": "execute_result",
          "data": {
            "text/html": [
              "<div>\n",
              "<style scoped>\n",
              "    .dataframe tbody tr th:only-of-type {\n",
              "        vertical-align: middle;\n",
              "    }\n",
              "\n",
              "    .dataframe tbody tr th {\n",
              "        vertical-align: top;\n",
              "    }\n",
              "\n",
              "    .dataframe thead th {\n",
              "        text-align: right;\n",
              "    }\n",
              "</style>\n",
              "<table border=\"1\" class=\"dataframe\">\n",
              "  <thead>\n",
              "    <tr style=\"text-align: right;\">\n",
              "      <th></th>\n",
              "      <th>Country</th>\n",
              "      <th>GDP</th>\n",
              "    </tr>\n",
              "  </thead>\n",
              "  <tbody>\n",
              "    <tr>\n",
              "      <th>45</th>\n",
              "      <td>Norway</td>\n",
              "      <td>40034.85063</td>\n",
              "    </tr>\n",
              "  </tbody>\n",
              "</table>\n",
              "</div>"
            ],
            "text/plain": [
              "   Country          GDP\n",
              "45  Norway  40034.85063"
            ]
          },
          "metadata": {
            "tags": []
          },
          "execution_count": 39
        }
      ]
    },
    {
      "cell_type": "code",
      "metadata": {
        "colab": {
          "base_uri": "https://localhost:8080/",
          "height": 81
        },
        "id": "d955xpO2Y1u5",
        "outputId": "f86f6d48-12ce-47f4-eb46-7406119c8ea6"
      },
      "source": [
        "df[df.GDP == min(df.GDP)]\n",
        "# Ethiopia is the country with lowest GDP"
      ],
      "execution_count": 40,
      "outputs": [
        {
          "output_type": "execute_result",
          "data": {
            "text/html": [
              "<div>\n",
              "<style scoped>\n",
              "    .dataframe tbody tr th:only-of-type {\n",
              "        vertical-align: middle;\n",
              "    }\n",
              "\n",
              "    .dataframe tbody tr th {\n",
              "        vertical-align: top;\n",
              "    }\n",
              "\n",
              "    .dataframe thead th {\n",
              "        text-align: right;\n",
              "    }\n",
              "</style>\n",
              "<table border=\"1\" class=\"dataframe\">\n",
              "  <thead>\n",
              "    <tr style=\"text-align: right;\">\n",
              "      <th></th>\n",
              "      <th>Country</th>\n",
              "      <th>GDP</th>\n",
              "    </tr>\n",
              "  </thead>\n",
              "  <tbody>\n",
              "    <tr>\n",
              "      <th>21</th>\n",
              "      <td>Ethiopia</td>\n",
              "      <td>229.676952</td>\n",
              "    </tr>\n",
              "  </tbody>\n",
              "</table>\n",
              "</div>"
            ],
            "text/plain": [
              "     Country         GDP\n",
              "21  Ethiopia  229.676952"
            ]
          },
          "metadata": {
            "tags": []
          },
          "execution_count": 40
        }
      ]
    },
    {
      "cell_type": "code",
      "metadata": {
        "colab": {
          "base_uri": "https://localhost:8080/"
        },
        "id": "SVdPLaMpWIaH",
        "outputId": "fd34e8d4-071b-4525-bfb4-4f1e9234d8b5"
      },
      "source": [
        "df.values\n",
        "# prints out the entire list of the countries with their GDPs."
      ],
      "execution_count": 41,
      "outputs": [
        {
          "output_type": "execute_result",
          "data": {
            "text/plain": [
              "array([['Algeria', 2255.225482],\n",
              "       ['Angola', 629.9553062],\n",
              "       ['Argentina', 11601.63022],\n",
              "       ['Australia', 25306.82494],\n",
              "       ['Austria', 27266.40335],\n",
              "       ['Bahamas', 19466.99052],\n",
              "       ['Bangladesh', 588.3691778],\n",
              "       ['Belarus', 2890.345675],\n",
              "       ['Belgium', 24733.62696],\n",
              "       ['Bhutan', 1445.760002],\n",
              "       ['Brazil', 4803.398244],\n",
              "       ['Bulgaria', 2618.876037],\n",
              "       ['Cambodia', 590.4521124],\n",
              "       ['Cameroon', 665.7982328],\n",
              "       ['Chile', 7122.938458],\n",
              "       ['China', 2639.54156],\n",
              "       ['Colombia', 3362.4656],\n",
              "       ['Cyprus', 15378.16704],\n",
              "       ['Denmark', 30860.12808],\n",
              "       ['El Salvador', 2579.115607],\n",
              "       ['Estonia', 6525.541272],\n",
              "       ['Ethiopia', 229.6769525],\n",
              "       ['Fiji', 2242.689259],\n",
              "       ['Finland', 27570.4852],\n",
              "       ['France', 23016.84778],\n",
              "       ['Georgia', 1334.646773],\n",
              "       ['Ghana', 402.6953275],\n",
              "       ['Grenada', 6047.200797],\n",
              "       ['Guinea', 394.1156638],\n",
              "       ['Haiti', 385.5793827],\n",
              "       ['Honduras', 1414.072488],\n",
              "       ['Hungary', 5745.981529],\n",
              "       ['India', 837.7464011],\n",
              "       ['Indonesia', 1206.991065],\n",
              "       ['Ireland', 27715.52837],\n",
              "       ['Italy', 18937.24998],\n",
              "       ['Japan', 39578.07441],\n",
              "       ['Kenya', 478.2194906],\n",
              "       ['South Korea', 16684.21278],\n",
              "       ['Liberia', 279.2204061],\n",
              "       ['Malaysia', 5345.213415],\n",
              "       ['Mexico', 6288.25324],\n",
              "       ['Morocco', 1908.304416],\n",
              "       ['Nepal', 274.8728621],\n",
              "       ['New Zealand', 14646.42094],\n",
              "       ['Norway', 40034.85063],\n",
              "       ['Pakistan', 672.1547506],\n",
              "       ['Peru', 3359.517402],\n",
              "       ['Qatar', 36152.66676],\n",
              "       ['Russia', 3054.727742],\n",
              "       ['Singapore', 33529.83052],\n",
              "       ['South Africa', 3825.093781],\n",
              "       ['Spain', 15428.32098],\n",
              "       ['Sweden', 33630.24604],\n",
              "       ['Switzerland', 39170.41371],\n",
              "       ['Thailand', 2699.123242],\n",
              "       ['United Arab Emirates', 21058.43643],\n",
              "       ['United Kingdom', 28272.40661],\n",
              "       ['United States', 37691.02733],\n",
              "       ['Uruguay', 9581.05659],\n",
              "       ['Venezuela', 5671.912202],\n",
              "       ['Vietnam', 757.4009286],\n",
              "       ['Zimbabwe', 347.7456605]], dtype=object)"
            ]
          },
          "metadata": {
            "tags": []
          },
          "execution_count": 41
        }
      ]
    },
    {
      "cell_type": "code",
      "metadata": {
        "colab": {
          "base_uri": "https://localhost:8080/"
        },
        "id": "pLWAVnBPVnru",
        "outputId": "a4e0007e-c5a7-4135-aa7a-000d20d954da"
      },
      "source": [
        "print('Maximum GDP value is',max(df.GDP))\n",
        "print('Minimum GDP value is',min(df.GDP))\n",
        "print('Mean GDP value is', df.GDP.mean())\n",
        "print('Sum of all GDPs is', df.GDP.sum())"
      ],
      "execution_count": 42,
      "outputs": [
        {
          "output_type": "stream",
          "text": [
            "Maximum GDP value is 40034.85063\n",
            "Minimum GDP value is 229.6769525\n",
            "Mean GDP value is 11289.409271639684\n",
            "Sum of all GDPs is 711232.7841133\n"
          ],
          "name": "stdout"
        }
      ]
    },
    {
      "cell_type": "code",
      "metadata": {
        "colab": {
          "base_uri": "https://localhost:8080/"
        },
        "id": "IYXSIL8rYtHn",
        "outputId": "156b19d8-1c78-4a2c-91e2-86088deb34cc"
      },
      "source": [
        "# Print out text and input values iteratively\n",
        "for i in range(len(df.Country)):\n",
        "  for j in range(i, len(df.GDP)):\n",
        "    print(df.Country.iloc[i],df.GDP.iloc[j])\n",
        "    break"
      ],
      "execution_count": 43,
      "outputs": [
        {
          "output_type": "stream",
          "text": [
            "Algeria 2255.225482\n",
            "Angola 629.9553062\n",
            "Argentina 11601.63022\n",
            "Australia 25306.82494\n",
            "Austria 27266.40335\n",
            "Bahamas 19466.99052\n",
            "Bangladesh 588.3691778\n",
            "Belarus 2890.345675\n",
            "Belgium 24733.62696\n",
            "Bhutan 1445.760002\n",
            "Brazil 4803.398244\n",
            "Bulgaria 2618.876037\n",
            "Cambodia 590.4521124\n",
            "Cameroon 665.7982328\n",
            "Chile 7122.938458\n",
            "China 2639.54156\n",
            "Colombia 3362.4656\n",
            "Cyprus 15378.16704\n",
            "Denmark 30860.12808\n",
            "El Salvador 2579.115607\n",
            "Estonia 6525.541272\n",
            "Ethiopia 229.6769525\n",
            "Fiji 2242.689259\n",
            "Finland 27570.4852\n",
            "France 23016.84778\n",
            "Georgia 1334.646773\n",
            "Ghana 402.6953275\n",
            "Grenada 6047.200797\n",
            "Guinea 394.1156638\n",
            "Haiti 385.5793827\n",
            "Honduras 1414.072488\n",
            "Hungary 5745.981529\n",
            "India 837.7464011\n",
            "Indonesia 1206.991065\n",
            "Ireland 27715.52837\n",
            "Italy 18937.24998\n",
            "Japan 39578.07441\n",
            "Kenya 478.2194906\n",
            "South Korea 16684.21278\n",
            "Liberia 279.2204061\n",
            "Malaysia 5345.213415\n",
            "Mexico 6288.25324\n",
            "Morocco 1908.304416\n",
            "Nepal 274.8728621\n",
            "New Zealand 14646.42094\n",
            "Norway 40034.85063\n",
            "Pakistan 672.1547506\n",
            "Peru 3359.517402\n",
            "Qatar 36152.66676\n",
            "Russia 3054.727742\n",
            "Singapore 33529.83052\n",
            "South Africa 3825.093781\n",
            "Spain 15428.32098\n",
            "Sweden 33630.24604\n",
            "Switzerland 39170.41371\n",
            "Thailand 2699.123242\n",
            "United Arab Emirates 21058.43643\n",
            "United Kingdom 28272.40661\n",
            "United States 37691.02733\n",
            "Uruguay 9581.05659\n",
            "Venezuela 5671.912202\n",
            "Vietnam 757.4009286\n",
            "Zimbabwe 347.7456605\n"
          ],
          "name": "stdout"
        }
      ]
    },
    {
      "cell_type": "code",
      "metadata": {
        "colab": {
          "base_uri": "https://localhost:8080/",
          "height": 424
        },
        "id": "qPb0mJ9wnft9",
        "outputId": "f1c83560-7aae-4edf-af1a-22b06dcf7ae7"
      },
      "source": [
        "# Standardized GDP\n",
        "mean=df.GDP.mean()\n",
        "std=df.GDP.std()\n",
        "df['Standardized GDP']=(df.GDP-mean)/std\n",
        "df"
      ],
      "execution_count": 47,
      "outputs": [
        {
          "output_type": "execute_result",
          "data": {
            "text/html": [
              "<div>\n",
              "<style scoped>\n",
              "    .dataframe tbody tr th:only-of-type {\n",
              "        vertical-align: middle;\n",
              "    }\n",
              "\n",
              "    .dataframe tbody tr th {\n",
              "        vertical-align: top;\n",
              "    }\n",
              "\n",
              "    .dataframe thead th {\n",
              "        text-align: right;\n",
              "    }\n",
              "</style>\n",
              "<table border=\"1\" class=\"dataframe\">\n",
              "  <thead>\n",
              "    <tr style=\"text-align: right;\">\n",
              "      <th></th>\n",
              "      <th>Country</th>\n",
              "      <th>GDP</th>\n",
              "      <th>Standardized GDP</th>\n",
              "    </tr>\n",
              "  </thead>\n",
              "  <tbody>\n",
              "    <tr>\n",
              "      <th>0</th>\n",
              "      <td>Algeria</td>\n",
              "      <td>2255.225482</td>\n",
              "      <td>-0.703258</td>\n",
              "    </tr>\n",
              "    <tr>\n",
              "      <th>1</th>\n",
              "      <td>Angola</td>\n",
              "      <td>629.955306</td>\n",
              "      <td>-0.829775</td>\n",
              "    </tr>\n",
              "    <tr>\n",
              "      <th>2</th>\n",
              "      <td>Argentina</td>\n",
              "      <td>11601.630220</td>\n",
              "      <td>0.024305</td>\n",
              "    </tr>\n",
              "    <tr>\n",
              "      <th>3</th>\n",
              "      <td>Australia</td>\n",
              "      <td>25306.824940</td>\n",
              "      <td>1.091173</td>\n",
              "    </tr>\n",
              "    <tr>\n",
              "      <th>4</th>\n",
              "      <td>Austria</td>\n",
              "      <td>27266.403350</td>\n",
              "      <td>1.243715</td>\n",
              "    </tr>\n",
              "    <tr>\n",
              "      <th>...</th>\n",
              "      <td>...</td>\n",
              "      <td>...</td>\n",
              "      <td>...</td>\n",
              "    </tr>\n",
              "    <tr>\n",
              "      <th>58</th>\n",
              "      <td>United States</td>\n",
              "      <td>37691.027330</td>\n",
              "      <td>2.055210</td>\n",
              "    </tr>\n",
              "    <tr>\n",
              "      <th>59</th>\n",
              "      <td>Uruguay</td>\n",
              "      <td>9581.056590</td>\n",
              "      <td>-0.132985</td>\n",
              "    </tr>\n",
              "    <tr>\n",
              "      <th>60</th>\n",
              "      <td>Venezuela</td>\n",
              "      <td>5671.912202</td>\n",
              "      <td>-0.437289</td>\n",
              "    </tr>\n",
              "    <tr>\n",
              "      <th>61</th>\n",
              "      <td>Vietnam</td>\n",
              "      <td>757.400929</td>\n",
              "      <td>-0.819855</td>\n",
              "    </tr>\n",
              "    <tr>\n",
              "      <th>62</th>\n",
              "      <td>Zimbabwe</td>\n",
              "      <td>347.745660</td>\n",
              "      <td>-0.851744</td>\n",
              "    </tr>\n",
              "  </tbody>\n",
              "</table>\n",
              "<p>63 rows × 3 columns</p>\n",
              "</div>"
            ],
            "text/plain": [
              "          Country           GDP  Standardized GDP\n",
              "0         Algeria   2255.225482         -0.703258\n",
              "1          Angola    629.955306         -0.829775\n",
              "2       Argentina  11601.630220          0.024305\n",
              "3       Australia  25306.824940          1.091173\n",
              "4         Austria  27266.403350          1.243715\n",
              "..            ...           ...               ...\n",
              "58  United States  37691.027330          2.055210\n",
              "59        Uruguay   9581.056590         -0.132985\n",
              "60      Venezuela   5671.912202         -0.437289\n",
              "61        Vietnam    757.400929         -0.819855\n",
              "62       Zimbabwe    347.745660         -0.851744\n",
              "\n",
              "[63 rows x 3 columns]"
            ]
          },
          "metadata": {
            "tags": []
          },
          "execution_count": 47
        }
      ]
    },
    {
      "cell_type": "code",
      "metadata": {
        "id": "50T1IdhfmHqh"
      },
      "source": [
        ""
      ],
      "execution_count": null,
      "outputs": []
    }
  ]
}